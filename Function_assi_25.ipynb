{
  "nbformat": 4,
  "nbformat_minor": 0,
  "metadata": {
    "colab": {
      "provenance": []
    },
    "kernelspec": {
      "name": "python3",
      "display_name": "Python 3"
    },
    "language_info": {
      "name": "python"
    }
  },
  "cells": [
    {
      "cell_type": "markdown",
      "source": [
        "# **Theory Questions:**"
      ],
      "metadata": {
        "id": "zA9j95Mgv3DX"
      }
    },
    {
      "cell_type": "markdown",
      "source": [
        "1.What is the difference between a function and a method in Python?\n",
        "\n",
        "Ans-\n",
        "\n",
        "🔹 Function\n",
        "A function is independent and defined using the def keyword.\n",
        "\n",
        "It can be called directly by its name.\n",
        "\n",
        "It is not tied to an object or class instance.\n",
        "Example:\n",
        "\n",
        "def greet(name):\n",
        "\n",
        "    return \"Hello, \" + name\n",
        "\n",
        "print(greet(\"Ashutosh\"))  \n",
        "\n",
        "Output: Hello, Ashutosh\n",
        "\n",
        "\n",
        "🔹 Method\n",
        "A method is a function that belongs to an object (i.e., a class instance).\n",
        "\n",
        "It is called on an object using dot (.) notation.\n",
        "\n",
        "It usually takes self as the first parameter to access the object's attributes.\n",
        "\n",
        "Example:\n",
        "\n",
        "class Person:\n",
        "\n",
        "    def __init__(self, name):\n",
        "        self.name = name\n",
        "\n",
        "    def greet(self):  # This is a method\n",
        "        return \"Hello, \" + self.name\n",
        "p = Person(\"Ashutosh\")\n",
        "\n",
        "print(p.greet())\n",
        "\n",
        "Output: Hello, Ashutosh"
      ],
      "metadata": {
        "id": "VRiuObaHv7vk"
      }
    },
    {
      "cell_type": "markdown",
      "source": [
        "2.Explain the concept of function arguments and parameters in Python.\n",
        "\n",
        "Ans-\n",
        "**Parameters:-**\n",
        "These are placeholders or variable names defined in a function.\n",
        "\n",
        "Used to receive values when the function is called.\n",
        "\n",
        "Declared in the function definition.\n",
        "\n",
        "**Arguments:-**\n",
        "These are the actual values passed to the function when calling it.\n",
        "\n",
        "They replace the parameters during function execution.\n",
        "\n",
        "\n",
        "def add(a, b):  # a and b are parameters\n",
        "\n",
        "    return a + b\n",
        "\n",
        "result = add(5, 3) # 5 and 3 are arg.\n",
        "\n",
        "print(\"Sum is:\", result)\n",
        "\n",
        "Output: Sum is: 8"
      ],
      "metadata": {
        "id": "yNZeHudYySCy"
      }
    },
    {
      "cell_type": "markdown",
      "source": [
        "3.What are the different ways to define and call a function in Python?\n",
        "\n",
        "Ans-\n",
        "In Python, functions can be defined and called in several different ways depending on how you want to use them. Below are the main ways to define and call a function:\n",
        "\n",
        "**1.Standard Function Definition and Call:**\n",
        "\n",
        "🔹 Definition:\n",
        "def greet(name):\n",
        "\n",
        "    print(\"Hello\", name)\n",
        "\n",
        "🔹 Call:\n",
        "\n",
        "greet(\"Ashutosh\")\n",
        "\n",
        "**2.Function with Default Arguments:**\n",
        "\n",
        "Definition:\n",
        "def greet(name=\"Guest\"):\n",
        "\n",
        "    print(\"Hello\", name)\n",
        "  \n",
        "🔹 Call:\n",
        "\n",
        "greet(\"Ashutosh\")   #Output: Hello Ashutosh\n",
        "\n",
        "greet()\n",
        "\n",
        "\n",
        "**3.Function with Keyword Arguments:**\n",
        "\n",
        "🔹 Definition:\n",
        "\n",
        "def info(name, age):\n",
        "    print(f\"Name: {name}, Age: {age}\")\n",
        "\n",
        "🔹 Call:\n",
        "info(age=25, name=\"Ashutosh\")  # Order doesn't matter\n",
        "\n",
        "\n",
        "** 4.Function with Variable-Length Arguments:**\n",
        "\n",
        "🔹 Using *args (for multiple positional arguments):\n",
        "\n",
        "def add(*numbers):\n",
        "    return sum(numbers)\n",
        "\n",
        "print(add(1, 2, 3, 4))  # Output: 10\n",
        "\n",
        "\n",
        "🔹 Using **kwargs (for multiple keyword arguments):\n",
        "\n",
        "def display_info(**kwargs):\n",
        "    for key, value in kwargs.items():\n",
        "        print(key, \":\", value)\n",
        "\n",
        "display_info(name=\"Ashutosh\", age=25)\n",
        "\n",
        "**5.Lambda Function (Anonymous Function):**\n",
        "\n",
        "🔹 Definition:\n",
        "\n",
        "square = lambda x: x * x\n",
        "\n",
        "🔹 Call:\n",
        "\n",
        "print(square(5))       # Output: 25\n",
        "\n",
        "\n",
        "6.**Function Inside a Function (Nested Function):**\n",
        "\n",
        "\n",
        "def outer():\n",
        "\n",
        "    def inner():\n",
        "\n",
        "        print(\"Hello from inner function\")\n",
        "\n",
        "    inner()\n",
        "\n",
        "outer()\n",
        "\n",
        "\n",
        "\n",
        "\n",
        "\n",
        "\n",
        "\n",
        "\n",
        "\n",
        "\n"
      ],
      "metadata": {
        "id": "qN_rPflm2OVF"
      }
    },
    {
      "cell_type": "markdown",
      "source": [
        "# **4.What is the purpose of the \"return\" statement in a Python function?**\n",
        "\n",
        "Ans-\n",
        "\n",
        "Purpose of the return Statement in Python\n",
        "The return statement is used to:\n",
        "\n",
        "1.Send a result back to the caller from a function.\n",
        "\n",
        "2.Exit the function immediately after return is executed.\n",
        "\n",
        "def add(a, b):\n",
        "\n",
        "    return a + b\n",
        "\n",
        "result = add(5, 3)\n",
        "\n",
        "print(\"Result:\", result)\n",
        "\n",
        "Output: Result: 8"
      ],
      "metadata": {
        "id": "TvRMMxhxyfVL"
      }
    },
    {
      "cell_type": "markdown",
      "source": [
        "# **5.What are iterators in Python and how do they differ from iterables?**\n",
        "\n",
        "Ans-\n",
        "\n",
        "1.Iterable\n",
        "\n",
        "An object that can be looped over (like in a for loop).\n",
        "\n",
        "Examples: list, tuple, string, dictionary, set.\n",
        "\n",
        "Internally uses the __iter__() method to return an iterator.\n",
        "\n",
        "\n",
        "\n",
        "my_list = [1, 2, 3]\n",
        "\n",
        "for item in my_list:  # my_list is an iterable\n",
        "\n",
        "    print(item)\n",
        "\n",
        "2.Iterator\n",
        "\n",
        "An object that keeps state and returns the next value when you call next().\n",
        "\n",
        "Created by calling iter() on an iterable.\n",
        "\n",
        "Must implement two methods: __iter__() and __next__().\n",
        "\n",
        "my_list = [1, 2, 3]\n",
        "\n",
        "my_iterator = iter(my_list)  # This is now an iterator\n",
        "\n",
        "print(next(my_iterator))  # Output: 1\n",
        "print(next(my_iterator))  # Output: 2\n",
        "print(next(my_iterator))  # Output: 3\n",
        "\n",
        "print(next(my_iterator))  # Raises Stop Iteration\n"
      ],
      "metadata": {
        "id": "izssocOSAmhm"
      }
    },
    {
      "cell_type": "markdown",
      "source": [
        "# **6.Explain the concept of generators in Python and how they are defined.**\n",
        "\n",
        "Ans-\n",
        "\n",
        "Generators in Python:-\n",
        "\n",
        "Generators are a special type of iterator in Python that allow you to generate values on the fly, instead of storing them all in memory at once. This makes them memory-efficient and ideal for working with large datasets or infinite sequences.\n",
        "\n",
        "def even_numbers(limit):\n",
        "\n",
        "    for n in range(limit):\n",
        "\n",
        "        if n % 2 == 0:\n",
        "\n",
        "            yield n\n",
        "\n",
        "for ev in even_numbers(10):\n",
        "\n",
        "    print(ev)"
      ],
      "metadata": {
        "id": "gNAISuUbBcUx"
      }
    },
    {
      "cell_type": "markdown",
      "source": [
        "# **7.What are the advantages of using generators over regular functions?**\n",
        "\n",
        "\n",
        "Ans-\n",
        "\n",
        "1.Memory Efficiency\n",
        "Generators do not store all values in memory.\n",
        "\n",
        "They yield one item at a time, which is ideal for large datasets or infinite sequences.\n",
        "\n",
        "Example:\n",
        "\n",
        "def count_up_to(n):\n",
        "\n",
        "    for i in range(n):\n",
        "        yield i\n",
        "\n",
        "\n",
        "2.Lazy Evaluation (On-Demand Execution)\n",
        "\n",
        "Values are produced only when requested using next() or in a loop.\n",
        "\n",
        "This allows for faster startup time and better performance in many cases.\n",
        "\n",
        "3.Simpler Code for Iterators\n",
        "\n",
        "Generators automatically implement the iterator protocol (__iter__() and __next__()), so you don’t need to write those manually.\n",
        "\n",
        "def count(max):\n",
        "\n",
        "    num = 1\n",
        "    while num <= max:\n",
        "        yield num\n",
        "        num += 1\n",
        "\n",
        "4.Infinite Sequence Support\n",
        "\n",
        "You can create infinite generators without consuming all memory.\n",
        "\n",
        "\n",
        "def infinite_counter():\n",
        "\n",
        "    n = 0\n",
        "    while True:\n",
        "        yield n\n",
        "        n += 1\n",
        "\n",
        "5.Improved Performance in Pipelines\n",
        "\n",
        "Great for building data processing pipelines where values flow through filters, mappers, and reducers—without loading everything into memory."
      ],
      "metadata": {
        "id": "iPvWpQthCN9u"
      }
    },
    {
      "cell_type": "markdown",
      "source": [
        "# **8.What is a lambda function in Python and when is it typically used?**\n",
        "\n",
        "Ans-\n",
        "\n",
        "A lambda function in Python is a small anonymous function defined using the lambda keyword instead of def.\n",
        "\n",
        "It can take any number of arguments, but has only one expression — the result of which is automatically returned.\n",
        "\n",
        "Syntax of a Lambda Function:\n",
        "\n",
        "lambda arguments: expression\n",
        "\n",
        "square = lambda x: x * x\n",
        "\n",
        "print(square(5))      # Output: 25"
      ],
      "metadata": {
        "id": "KASb-FgkXr88"
      }
    },
    {
      "cell_type": "markdown",
      "source": [
        "# 9**.Explain the purpose and usage of the \"map()\"function in Python.**\n",
        "\n",
        "Ans-\n",
        "The map() function is used to apply a function to every item in an iterable (like a list, tuple, etc.) and return a new iterable (specifically, a map object).\n",
        "\n",
        "It allows for clean, concise, and functional-style programming.\n",
        "\n",
        "Example 1: Using map() with a regular function\n",
        "\n",
        "def square(x):\n",
        "\n",
        "    return x * x\n",
        "\n",
        "numbers = [1, 2, 3, 4]\n",
        "\n",
        "result = map(square, numbers)\n",
        "\n",
        "print(list(result))  # Output: [1, 4, 9, 16]\n",
        "\n",
        "\n",
        "Example 2: Using map() with a lambda function\n",
        "\n",
        "\n",
        "numbers = [1, 2, 3, 4]\n",
        "\n",
        "result = map(lambda x: x + 10, numbers)\n",
        "\n",
        "print(list(result))  # Output: [11, 12, 13, 14]\n",
        "\n",
        "Example 3: Mapping over multiple iterables\n",
        "\n",
        "a = [1, 2, 3]\n",
        "b = [4, 5, 6]\n",
        "\n",
        "result = map(lambda x, y: x + y, a, b)\n",
        "\n",
        "print(list(result))  # Output: [5, 7, 9]"
      ],
      "metadata": {
        "id": "qyLZVyKHZl_8"
      }
    },
    {
      "cell_type": "markdown",
      "source": [
        "10.What is the difference between `map()`, `reduce()`, and `filter()` functions in Python?\n",
        "\n",
        "Ans-\n",
        "# **1.map()**\n",
        "Purpose: Applies a function to each item in the iterable and returns a new iterable with the results.\n",
        "\n",
        "Syntax:\n",
        "\n",
        "map(function, iterable)\n",
        "\n",
        "Example:\n",
        "\n",
        "numbers = [1, 2, 3, 4]\n",
        "\n",
        "result = map(lambda x: x * 2, numbers)\n",
        "\n",
        "print(list(result))  # Output: [2, 4, 6, 8]\n",
        "\n",
        "# **2.filter()**\n",
        "Purpose: Applies a function to each item and keeps only the items where the function returns True.\n",
        "\n",
        "Syntax:\n",
        "\n",
        "filter(function, iterable)\n",
        "\n",
        "Example:\n",
        "\n",
        "numbers = [1, 2, 3, 4, 5, 6]\n",
        "\n",
        "result = filter(lambda x: x % 2 == 0, numbers)\n",
        "\n",
        "print(list(result))  # Output: [2, 4, 6]\n",
        "\n",
        "# **3.reduce() (from functools module)**\n",
        "\n",
        "Purpose: Applies a function cumulatively to the items in an iterable, reducing them to a single value.\n",
        "\n",
        "Syntax:\n",
        "\n",
        "from functools import reduce\n",
        "reduce(function, iterable)\n",
        "\n",
        "Example:\n",
        "\n",
        "from functools import reduce\n",
        "\n",
        "numbers = [1, 2, 3, 4]\n",
        "\n",
        "result = reduce(lambda x, y: x + y, numbers)\n",
        "\n",
        "print(result)  # Output: 10"
      ],
      "metadata": {
        "id": "D4Q_u7HXb5yA"
      }
    },
    {
      "cell_type": "markdown",
      "source": [
        "# **11.Using pen & Paper write the internal mechanism for sum operation using  reduce function on this given**\n",
        "# list:[47,11,42,13];\n",
        "\n",
        "Ans-\n",
        "from functools import reduce\n",
        "\n",
        "nums = [47, 11, 42, 13]\n",
        "reduce(lambda x, y: x + y, nums)\n",
        "\n",
        "\n",
        "# **Step-by-Step Breakdown:**\n",
        "Let the reduce() function work like this:\n",
        "\n",
        "Step 1: Take the first two elements → 47 and 11\n",
        "        Apply the function → 47 + 11 = 58\n",
        "\n",
        "\n",
        "Step 2: Take result from step 1 and next element → 58 and 42\n",
        "        Apply the function → 58 + 42 = 100\n",
        "\n",
        "\n",
        "Step 3: Take result from step 2 and next element → 100 and 13\n",
        "        Apply the function → 100 + 13 = 113\n",
        "\n",
        "\n",
        "Final Result:\n",
        "\n",
        "113"
      ],
      "metadata": {
        "id": "Fg6gOkrheapu"
      }
    },
    {
      "cell_type": "markdown",
      "source": [
        "# **Practial Question**"
      ],
      "metadata": {
        "id": "S6lMuYTQgI0K"
      }
    },
    {
      "cell_type": "code",
      "source": [
        "#1. Write a Python function that takes a list of numbers as input and returns the sum of all even numbers in the list.]\n",
        "\n",
        "def sum_of_even_numbers(numbers):\n",
        "  even_sum=0\n",
        "  for num in numbers:\n",
        "    if num%2==0:\n",
        "      even_sum+=num\n",
        "  return even_sum\n",
        "\n",
        "sample_list=[1,2,3,4,5,6,7,8,9]\n",
        "result=sum_of_even_numbers(sample_list)\n",
        "print(\"sum of even numbers:\",result)"
      ],
      "metadata": {
        "colab": {
          "base_uri": "https://localhost:8080/"
        },
        "id": "AZKoHs1ppeSH",
        "outputId": "43dda8b4-1168-4a31-ac65-213e65c55088"
      },
      "execution_count": 4,
      "outputs": [
        {
          "output_type": "stream",
          "name": "stdout",
          "text": [
            "sum of even numbers: 20\n"
          ]
        }
      ]
    },
    {
      "cell_type": "code",
      "source": [
        "#2. Create a Python function that accepts a string and returns the reverse of that string.\n",
        "def reverse_string(s):\n",
        "  return s[::-1]\n",
        "\n",
        "input_string=\"ashutosh\"\n",
        "result=reverse_string(input_string)\n",
        "print(\"the reverse of string is:\",result)"
      ],
      "metadata": {
        "colab": {
          "base_uri": "https://localhost:8080/"
        },
        "id": "TTxvU8ftqHYd",
        "outputId": "cf9cf88d-00f1-4e0b-8624-b2a4c7b438b8"
      },
      "execution_count": 5,
      "outputs": [
        {
          "output_type": "stream",
          "name": "stdout",
          "text": [
            "the reverse of string is: hsotuhsa\n"
          ]
        }
      ]
    },
    {
      "cell_type": "code",
      "source": [
        "#3. Implement a Python function that takes a list of integers and returns a new list containing the squares of each number.\n",
        "\n",
        "def square_numbers(numbers):\n",
        "  squared_list=[]\n",
        "  for num in numbers:\n",
        "    squared_list.append(num**2)\n",
        "  return squared_list\n",
        "lst=[1,2,3,4,5,6]\n",
        "result=square_numbers(lst)\n",
        "print(\"the squared list:\",result)"
      ],
      "metadata": {
        "colab": {
          "base_uri": "https://localhost:8080/"
        },
        "id": "LFuMhJmytDn1",
        "outputId": "979d80ee-27c1-4000-9e9c-fc443e958b1d"
      },
      "execution_count": 6,
      "outputs": [
        {
          "output_type": "stream",
          "name": "stdout",
          "text": [
            "the squared list: [1, 4, 9, 16, 25, 36]\n"
          ]
        }
      ]
    },
    {
      "cell_type": "code",
      "source": [
        "#4. Write a Python function that checks if a given number is prime or not from 1 to 200.\n",
        "\n",
        "def is_prime(n):\n",
        "    if n <= 1:\n",
        "        return False\n",
        "    for i in range(2, int(n**0.5) + 1):\n",
        "        if n % i == 0:\n",
        "            return False\n",
        "    return True\n",
        "\n",
        "# Example usage: check numbers from 1 to 200\n",
        "for num in range(1, 201):\n",
        "    if is_prime(num):\n",
        "        print(f\"{num} is a prime number\")\n"
      ],
      "metadata": {
        "colab": {
          "base_uri": "https://localhost:8080/"
        },
        "id": "Nq0jtkwMt46P",
        "outputId": "eb44425f-76d4-4580-f36b-cafb6ed703d5"
      },
      "execution_count": 11,
      "outputs": [
        {
          "output_type": "stream",
          "name": "stdout",
          "text": [
            "2 is a prime number\n",
            "3 is a prime number\n",
            "5 is a prime number\n",
            "7 is a prime number\n",
            "11 is a prime number\n",
            "13 is a prime number\n",
            "17 is a prime number\n",
            "19 is a prime number\n",
            "23 is a prime number\n",
            "29 is a prime number\n",
            "31 is a prime number\n",
            "37 is a prime number\n",
            "41 is a prime number\n",
            "43 is a prime number\n",
            "47 is a prime number\n",
            "53 is a prime number\n",
            "59 is a prime number\n",
            "61 is a prime number\n",
            "67 is a prime number\n",
            "71 is a prime number\n",
            "73 is a prime number\n",
            "79 is a prime number\n",
            "83 is a prime number\n",
            "89 is a prime number\n",
            "97 is a prime number\n",
            "101 is a prime number\n",
            "103 is a prime number\n",
            "107 is a prime number\n",
            "109 is a prime number\n",
            "113 is a prime number\n",
            "127 is a prime number\n",
            "131 is a prime number\n",
            "137 is a prime number\n",
            "139 is a prime number\n",
            "149 is a prime number\n",
            "151 is a prime number\n",
            "157 is a prime number\n",
            "163 is a prime number\n",
            "167 is a prime number\n",
            "173 is a prime number\n",
            "179 is a prime number\n",
            "181 is a prime number\n",
            "191 is a prime number\n",
            "193 is a prime number\n",
            "197 is a prime number\n",
            "199 is a prime number\n"
          ]
        }
      ]
    },
    {
      "cell_type": "code",
      "source": [
        "#5. Create an iterator class in Python that generates the Fibonacci sequence up to a specified number of terms.\n",
        "\n",
        "class FibonacciIterator:\n",
        "    def __init__(self, max_terms):\n",
        "        self.max_terms = max_terms\n",
        "        self.count = 0\n",
        "        self.a, self.b = 0, 1\n",
        "\n",
        "    def __iter__(self):\n",
        "        return self\n",
        "\n",
        "    def __next__(self):\n",
        "        if self.count >= self.max_terms:\n",
        "            raise StopIteration\n",
        "        if self.count == 0:\n",
        "            self.count += 1\n",
        "            return 0\n",
        "        elif self.count == 1:\n",
        "            self.count += 1\n",
        "            return 1\n",
        "        else:\n",
        "            self.a, self.b = self.b, self.a + self.b\n",
        "            self.count += 1\n",
        "            return self.a\n",
        "\n",
        "\n",
        "fib = FibonacciIterator(10)\n",
        "for num in fib:\n",
        "    print(num)\n"
      ],
      "metadata": {
        "colab": {
          "base_uri": "https://localhost:8080/"
        },
        "id": "6DrMjPSdyags",
        "outputId": "9386fe17-5900-45ac-b654-546369a5d46a"
      },
      "execution_count": 12,
      "outputs": [
        {
          "output_type": "stream",
          "name": "stdout",
          "text": [
            "0\n",
            "1\n",
            "1\n",
            "1\n",
            "2\n",
            "3\n",
            "5\n",
            "8\n",
            "13\n",
            "21\n"
          ]
        }
      ]
    },
    {
      "cell_type": "code",
      "source": [
        "#6. Write a generator function in Python that yields the powers of 2 up to a given exponent.\n",
        "\n",
        "def powers_of_two(max_exponent):\n",
        "    for i in range(max_exponent + 1):\n",
        "        yield 2 ** i\n",
        "\n",
        "\n",
        "for power in powers_of_two(5):\n",
        "    print(power)"
      ],
      "metadata": {
        "colab": {
          "base_uri": "https://localhost:8080/"
        },
        "id": "hBAvuyse0fGi",
        "outputId": "ea25df53-8b69-4bff-a603-cf60df616c2b"
      },
      "execution_count": 13,
      "outputs": [
        {
          "output_type": "stream",
          "name": "stdout",
          "text": [
            "1\n",
            "2\n",
            "4\n",
            "8\n",
            "16\n",
            "32\n"
          ]
        }
      ]
    },
    {
      "cell_type": "code",
      "source": [
        "#7. Implement a generator function that reads a file line by line and yields each line as a string.\n",
        "\n",
        "#8.Use a lambda function in Python to sort a list of tuples based on the second element of each tuple.\n",
        "\n",
        "\n",
        "data = [(1, 4), (3, 1), (5, 2), (2, 3)]\n",
        "\n",
        "sorted_data = sorted(data, key=lambda x: x[1])\n",
        "\n",
        "print(\"Sorted list:\", sorted_data)\n",
        "\n",
        "\n"
      ],
      "metadata": {
        "colab": {
          "base_uri": "https://localhost:8080/"
        },
        "id": "3c4_aUh-03gA",
        "outputId": "2227b518-599c-4839-c746-c0b337b0a9e8"
      },
      "execution_count": 17,
      "outputs": [
        {
          "output_type": "stream",
          "name": "stdout",
          "text": [
            "Sorted list: [(3, 1), (5, 2), (2, 3), (1, 4)]\n"
          ]
        }
      ]
    },
    {
      "cell_type": "code",
      "source": [
        "#9. Write a Python program that uses `map()` to convert a list of temperatures from Celsius to Fahrenheit.\n",
        "\n",
        "celsius_temperatures = [0, 10, 20, 30, 40]\n",
        "\n",
        "fahrenheit_temperatures = list(map(lambda c: (c * 9/5) + 32, celsius_temperatures))\n",
        "\n",
        "print(\"Celsius Temperatures:\", celsius_temperatures)\n",
        "print(\"Fahrenheit Temperatures:\", fahrenheit_temperatures)"
      ],
      "metadata": {
        "colab": {
          "base_uri": "https://localhost:8080/"
        },
        "id": "rZ5fXr-n1FcC",
        "outputId": "7a0e1dc7-59cd-4826-dbd1-85702fe358c0"
      },
      "execution_count": 19,
      "outputs": [
        {
          "output_type": "stream",
          "name": "stdout",
          "text": [
            "Celsius Temperatures: [0, 10, 20, 30, 40]\n",
            "Fahrenheit Temperatures: [32.0, 50.0, 68.0, 86.0, 104.0]\n"
          ]
        }
      ]
    },
    {
      "cell_type": "code",
      "source": [
        "#10.10. Create a Python program that uses `filter()` to remove all the vowels from a given string.\n",
        "\n",
        "def remove_vowels(input_string):\n",
        "    vowels = 'aeiouAEIOU'\n",
        "    return ''.join(filter(lambda ch: ch not in vowels, input_string))\n",
        "\n",
        "\n",
        "text = \"Hello, World!\"\n",
        "no_vowels = remove_vowels(text)\n",
        "print(\"Original string:\", text)\n",
        "print(\"String without vowels:\", no_vowels)\n"
      ],
      "metadata": {
        "colab": {
          "base_uri": "https://localhost:8080/"
        },
        "id": "9Ph80sji1yxY",
        "outputId": "d6a7ab7c-ad6f-4761-ba75-a278464163f7"
      },
      "execution_count": 20,
      "outputs": [
        {
          "output_type": "stream",
          "name": "stdout",
          "text": [
            "Original string: Hello, World!\n",
            "String without vowels: Hll, Wrld!\n"
          ]
        }
      ]
    },
    {
      "cell_type": "code",
      "source": [
        "#11) Imagine an accounting routine used in a book shop. It works on a list with sublists, which look like this:\n",
        "\n",
        "'''Write a Python program, which returns a list with 2-tuples. Each tuple consists of the order number and the\n",
        "product of the price per item and the quantity. The product should be increased by 10,- € if the value of the\n",
        "order is smaller than 100,00 €.\n",
        "\n",
        "Write a Python program using lambda and map'''\n",
        "\n",
        "orders = [\n",
        "    [34587, \"Learning Python\", 4, 40.95],\n",
        "    [98762, \"Programming in C\", 5, 12.99],\n",
        "    [77226, \"Data Science Book\", 3, 24.99],\n",
        "    [88112, \"Algorithms\", 1, 250.00]\n",
        "]\n",
        "\n",
        "# Use map and lambda to compute the desired result\n",
        "result = list(map(\n",
        "    lambda order: (\n",
        "        order[0],\n",
        "        round(order[2] * order[3] + (10 if order[2] * order[3] < 100 else 0), 2)\n",
        "    ),\n",
        "    orders\n",
        "))\n",
        "\n",
        "# Print the result\n",
        "print(result)\n"
      ],
      "metadata": {
        "id": "oDKyTQQC2WEU"
      },
      "execution_count": null,
      "outputs": []
    }
  ]
}